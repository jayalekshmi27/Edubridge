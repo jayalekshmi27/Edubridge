{
 "cells": [
  {
   "cell_type": "markdown",
   "id": "e896b68d",
   "metadata": {},
   "source": [
    "# swap of two numbers"
   ]
  },
  {
   "cell_type": "code",
   "execution_count": 6,
   "id": "237a7d4b",
   "metadata": {},
   "outputs": [
    {
     "name": "stdout",
     "output_type": "stream",
     "text": [
      "enter the first number45\n",
      "enter the second number67\n",
      "before swapping the value of a 45\n",
      "before swapping the value of b 67\n",
      "after swapping the value of a 67\n",
      "after swapping the value of b 45\n"
     ]
    }
   ],
   "source": [
    "a=int(input('enter the first number'))\n",
    "b=int(input('enter the second number'))\n",
    "print('before swapping the value of a',a)\n",
    "print('before swapping the value of b',b)\n",
    "temp=a\n",
    "a=b\n",
    "b=temp \n",
    "print('after swapping the value of a',a) \n",
    "print('after swapping the value of b',b)"
   ]
  },
  {
   "cell_type": "markdown",
   "id": "284bfcbd",
   "metadata": {},
   "source": [
    "# perimeter of circle"
   ]
  },
  {
   "cell_type": "code",
   "execution_count": 4,
   "id": "a88edaeb",
   "metadata": {},
   "outputs": [
    {
     "name": "stdout",
     "output_type": "stream",
     "text": [
      "enter the radius3\n",
      "perimeter of circle 18.84\n"
     ]
    }
   ],
   "source": [
    "r=int(input('enter the radius'))\n",
    "p=2*3.14*r \n",
    "print('perimeter of circle',p)"
   ]
  },
  {
   "cell_type": "markdown",
   "id": "925353c3",
   "metadata": {},
   "source": [
    "# volume of cube "
   ]
  },
  {
   "cell_type": "code",
   "execution_count": 12,
   "id": "21878b04",
   "metadata": {},
   "outputs": [
    {
     "name": "stdout",
     "output_type": "stream",
     "text": [
      "enter the value of radius7\n",
      "volume of cube 343\n"
     ]
    }
   ],
   "source": [
    "r=int(input('enter the value of radius'))\n",
    "v=r*r*r\n",
    "print('volume of cube',v)"
   ]
  },
  {
   "cell_type": "markdown",
   "id": "78237f6d",
   "metadata": {},
   "source": [
    "# volume of sphere"
   ]
  },
  {
   "cell_type": "code",
   "execution_count": 3,
   "id": "c8f91dd0",
   "metadata": {},
   "outputs": [
    {
     "name": "stdout",
     "output_type": "stream",
     "text": [
      "enter the value of radius6\n",
      "volume of sphere 904.32\n"
     ]
    }
   ],
   "source": [
    "r=int(input('enter the value of radius'))\n",
    "v=(4*3.14*r*r*r)/3\n",
    "print('volume of sphere',v)"
   ]
  },
  {
   "cell_type": "markdown",
   "id": "2fbd491f",
   "metadata": {},
   "source": [
    "# power of a number"
   ]
  },
  {
   "cell_type": "code",
   "execution_count": 1,
   "id": "9f585929",
   "metadata": {},
   "outputs": [
    {
     "name": "stdout",
     "output_type": "stream",
     "text": [
      "enter the number5\n",
      "power of a number4\n",
      "625\n"
     ]
    }
   ],
   "source": [
    "n=int(input('enter the number'))\n",
    "p=int(input('power of a number'))\n",
    "x=n**p \n",
    "print(x)"
   ]
  },
  {
   "cell_type": "markdown",
   "id": "7779236f",
   "metadata": {},
   "source": [
    "# simple interest"
   ]
  },
  {
   "cell_type": "code",
   "execution_count": 8,
   "id": "3e1d275f",
   "metadata": {},
   "outputs": [
    {
     "name": "stdout",
     "output_type": "stream",
     "text": [
      "principal amount,p10000\n",
      "rate of interest,r12\n",
      "no of years,t3\n",
      "3600.0\n"
     ]
    }
   ],
   "source": [
    "a=int(input('principal amount,p'))\n",
    "b=int(input('rate of interest,r'))\n",
    "c=int(input('no of years,t'))\n",
    "d=a*b*c/100\n",
    "print(d)"
   ]
  },
  {
   "cell_type": "code",
   "execution_count": null,
   "id": "21921069",
   "metadata": {},
   "outputs": [],
   "source": []
  }
 ],
 "metadata": {
  "kernelspec": {
   "display_name": "Python 3",
   "language": "python",
   "name": "python3"
  },
  "language_info": {
   "codemirror_mode": {
    "name": "ipython",
    "version": 3
   },
   "file_extension": ".py",
   "mimetype": "text/x-python",
   "name": "python",
   "nbconvert_exporter": "python",
   "pygments_lexer": "ipython3",
   "version": "3.8.8"
  }
 },
 "nbformat": 4,
 "nbformat_minor": 5
}
