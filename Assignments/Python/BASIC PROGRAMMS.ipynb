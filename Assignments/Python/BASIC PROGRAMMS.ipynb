{
 "cells": [
  {
   "cell_type": "code",
   "execution_count": 1,
   "id": "38694443",
   "metadata": {},
   "outputs": [
    {
     "name": "stdout",
     "output_type": "stream",
     "text": [
      "enter the length25\n",
      "enter the breadth10\n",
      "70\n"
     ]
    }
   ],
   "source": [
    "###perimeter of figures\n",
    "##rectangle\n",
    "l=int(input('enter the length'))\n",
    "b=int(input('enter the breadth'))\n",
    "perimeter=2*(l+b)\n",
    "print(perimeter)"
   ]
  },
  {
   "cell_type": "code",
   "execution_count": 2,
   "id": "89d2c28a",
   "metadata": {},
   "outputs": [
    {
     "name": "stdout",
     "output_type": "stream",
     "text": [
      "enter the radius5\n",
      "perimeter of circle 31.400000000000002\n"
     ]
    }
   ],
   "source": [
    "##circle\n",
    "r=int(input('enter the radius'))\n",
    "p=2*3.14*r\n",
    "print('perimeter of circle',p)"
   ]
  },
  {
   "cell_type": "code",
   "execution_count": 3,
   "id": "8bdd1021",
   "metadata": {},
   "outputs": [
    {
     "name": "stdout",
     "output_type": "stream",
     "text": [
      "enter the value of radius4\n",
      "volume of sphere 267.94666666666666\n"
     ]
    }
   ],
   "source": [
    "###volume of shapes\n",
    "##sphere\n",
    "r=int(input('enter the value of radius'))\n",
    "v=(4*3.14*r*r*r)/3\n",
    "print('volume of sphere',v)"
   ]
  },
  {
   "cell_type": "code",
   "execution_count": 4,
   "id": "a2045013",
   "metadata": {},
   "outputs": [
    {
     "name": "stdout",
     "output_type": "stream",
     "text": [
      "enter the value of radius7\n",
      "volume of cube 343\n"
     ]
    }
   ],
   "source": [
    "###cube\n",
    "r=int(input('enter the value of radius'))\n",
    "v=r*r*r\n",
    "print('volume of cube',v)\n"
   ]
  },
  {
   "cell_type": "code",
   "execution_count": null,
   "id": "93c8d001",
   "metadata": {},
   "outputs": [],
   "source": []
  }
 ],
 "metadata": {
  "kernelspec": {
   "display_name": "Python 3",
   "language": "python",
   "name": "python3"
  },
  "language_info": {
   "codemirror_mode": {
    "name": "ipython",
    "version": 3
   },
   "file_extension": ".py",
   "mimetype": "text/x-python",
   "name": "python",
   "nbconvert_exporter": "python",
   "pygments_lexer": "ipython3",
   "version": "3.8.8"
  }
 },
 "nbformat": 4,
 "nbformat_minor": 5
}
