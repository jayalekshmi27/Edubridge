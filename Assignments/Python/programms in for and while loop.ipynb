{
 "cells": [
  {
   "cell_type": "code",
   "execution_count": 5,
   "id": "de722ed3",
   "metadata": {},
   "outputs": [
    {
     "name": "stdout",
     "output_type": "stream",
     "text": [
      "enter the number3456\n",
      "reverse of the number 6543\n"
     ]
    }
   ],
   "source": [
    "###reverse of a number\n",
    "n=int(input('enter the number'))\n",
    "a=n\n",
    "reverse=0\n",
    "while a>0:\n",
    "    d=a%10\n",
    "    reverse=reverse*10+d\n",
    "    a=a//10\n",
    "print('reverse of the number',reverse)"
   ]
  },
  {
   "cell_type": "code",
   "execution_count": 16,
   "id": "1005c4a6",
   "metadata": {},
   "outputs": [
    {
     "name": "stdout",
     "output_type": "stream",
     "text": [
      "enter the number4567\n",
      "reverse of the number 7654\n",
      "sum of number an reverse is 12221\n"
     ]
    }
   ],
   "source": [
    "#### sum of a number and its reverse\n",
    "n=int(input('enter the number'))\n",
    "a=n\n",
    "reverse=0\n",
    "while a>0:\n",
    "    d=a%10\n",
    "    reverse=reverse*10+d\n",
    "    a=a//10\n",
    "print('reverse of the number',reverse)\n",
    "sum=n+reverse\n",
    "print('sum of number an reverse is',sum)\n",
    "\n"
   ]
  },
  {
   "cell_type": "code",
   "execution_count": 27,
   "id": "b31372ec",
   "metadata": {},
   "outputs": [
    {
     "name": "stdout",
     "output_type": "stream",
     "text": [
      "enter the number153\n",
      "Armstrong number\n"
     ]
    }
   ],
   "source": [
    "###whether a number is Armstrong or not\n",
    "n=int(input('enter the number'))\n",
    "a=n\n",
    "sum=0\n",
    "while a>0:\n",
    "    d=a%10\n",
    "    sum=sum+d**3\n",
    "    a=a//10\n",
    "if sum==n:\n",
    "    print('Armstrong number')\n",
    "else:\n",
    "    print('not an Armstrong number')"
   ]
  },
  {
   "cell_type": "code",
   "execution_count": 36,
   "id": "64351dbf",
   "metadata": {},
   "outputs": [
    {
     "name": "stdout",
     "output_type": "stream",
     "text": [
      "enter the number454\n",
      "454\n",
      "palindrome number\n"
     ]
    }
   ],
   "source": [
    "###check whether a number is palindrome or not\n",
    "n=int(input('enter the number'))\n",
    "a=n\n",
    "reverse=0\n",
    "while a>0:\n",
    "    digit=a%10\n",
    "    reverse=reverse*10+digit\n",
    "    a=a//10\n",
    "print(reverse)\n",
    "if n==reverse:\n",
    "    print('palindrome number')\n",
    "else:\n",
    "    print('not palindrome')"
   ]
  },
  {
   "cell_type": "code",
   "execution_count": 3,
   "id": "f2c36bef",
   "metadata": {},
   "outputs": [
    {
     "name": "stdout",
     "output_type": "stream",
     "text": [
      "enter the number234\n",
      "sum of digits 9\n"
     ]
    }
   ],
   "source": [
    "###SUM OF DIGITS OF A NUMBER\n",
    "n=int(input('enter the number'))\n",
    "a=n\n",
    "sum=0\n",
    "while a>0:\n",
    "    d=a%10\n",
    "    sum=sum+d\n",
    "    a=a//10\n",
    "print('sum of digits',sum)"
   ]
  },
  {
   "cell_type": "code",
   "execution_count": null,
   "id": "e3b7a68a",
   "metadata": {},
   "outputs": [],
   "source": []
  }
 ],
 "metadata": {
  "kernelspec": {
   "display_name": "Python 3",
   "language": "python",
   "name": "python3"
  },
  "language_info": {
   "codemirror_mode": {
    "name": "ipython",
    "version": 3
   },
   "file_extension": ".py",
   "mimetype": "text/x-python",
   "name": "python",
   "nbconvert_exporter": "python",
   "pygments_lexer": "ipython3",
   "version": "3.8.8"
  }
 },
 "nbformat": 4,
 "nbformat_minor": 5
}
