{
 "cells": [
  {
   "cell_type": "code",
   "execution_count": 1,
   "id": "7700146b",
   "metadata": {},
   "outputs": [
    {
     "name": "stdout",
     "output_type": "stream",
     "text": [
      "enter the number,n1:3\n",
      "enter the number,n2:9\n",
      "enter the number,n3:8\n",
      "9\n"
     ]
    }
   ],
   "source": [
    "###find the greatest number\n",
    "n1=int(input('enter the number,n1:'))\n",
    "n2=int(input('enter the number,n2:'))\n",
    "n3=int(input('enter the number,n3:'))\n",
    "if n1>(n2 and n3):\n",
    "    print(n1)\n",
    "elif n2>(n1 and n3):\n",
    "    print(n2)\n",
    "else:\n",
    "    print(n3)\n",
    "        "
   ]
  },
  {
   "cell_type": "code",
   "execution_count": 2,
   "id": "c7577764",
   "metadata": {},
   "outputs": [
    {
     "name": "stdout",
     "output_type": "stream",
     "text": [
      "enter the salary10000\n",
      "11000.0\n"
     ]
    }
   ],
   "source": [
    "###give 10% bonus if salary greater than 10000\n",
    "n=int(input('enter the salary'))\n",
    "if n>=10000:\n",
    "    print(n+((n*10)/100))\n",
    "else:\n",
    "    print('no bonus')"
   ]
  },
  {
   "cell_type": "code",
   "execution_count": 3,
   "id": "c93e26f2",
   "metadata": {},
   "outputs": [
    {
     "name": "stdout",
     "output_type": "stream",
     "text": [
      "enter the year2020\n",
      "leap year\n"
     ]
    }
   ],
   "source": [
    "###leap year or not\n",
    "n=int(input('enter the year'))\n",
    "if n%4==0:\n",
    "    print('leap year')\n",
    "else:\n",
    "    print('not a leap year')\n",
    "        "
   ]
  },
  {
   "cell_type": "code",
   "execution_count": 4,
   "id": "ec378db9",
   "metadata": {},
   "outputs": [
    {
     "name": "stdout",
     "output_type": "stream",
     "text": [
      "enter the number,n1=45\n",
      "enter the number,n2=78\n",
      "enter the number,n3=90\n",
      "45 78 90\n"
     ]
    }
   ],
   "source": [
    "###print three numbers in ascending order\n",
    "n1=int(input('enter the number,n1='))\n",
    "n2=int(input('enter the number,n2='))\n",
    "n3=int(input('enter the number,n3='))\n",
    "if n1<n2<n3:\n",
    "    print(n1,n2,n3)\n",
    "elif n1<n3<n2:\n",
    "    print(n1,n3,n2)\n",
    "elif n2<n1<n3:\n",
    "    print(n2,n1,n3)\n",
    "elif n2<n3<n1:\n",
    "    print(n2,n3,n1)\n",
    "elif n3<n1<n2:\n",
    "    print(n3,n1,n2)\n",
    "else:\n",
    "    print(n3,n2,n1)"
   ]
  },
  {
   "cell_type": "code",
   "execution_count": 5,
   "id": "692fd6c6",
   "metadata": {},
   "outputs": [
    {
     "name": "stdout",
     "output_type": "stream",
     "text": [
      "enter the number,n=7\n",
      "JULY\n"
     ]
    }
   ],
   "source": [
    "###print the name of months according to numbers 1 to 12\n",
    "n=int(input('enter the number,n='))\n",
    "if n==1:\n",
    "    print('JANUARY')\n",
    "elif n==2:\n",
    "    print('FEBRUARY')\n",
    "elif n==3:\n",
    "    print('MARCH')\n",
    "elif n==4:\n",
    "    print('APRIL')\n",
    "elif n==5:\n",
    "    print('MAY')\n",
    "elif n==6:\n",
    "    print('JUNE')\n",
    "elif n==7:\n",
    "    print('JULY')\n",
    "elif n==8:\n",
    "    print('AUGUST')\n",
    "elif n==9:\n",
    "    print('SEPTEMBER')\n",
    "elif n==10:\n",
    "    print('OCTOBER')\n",
    "elif n==11:\n",
    "    print('NOVEMBER')\n",
    "elif n==12:\n",
    "    print('DECEMBER')"
   ]
  },
  {
   "cell_type": "code",
   "execution_count": 6,
   "id": "2b8ce4b0",
   "metadata": {},
   "outputs": [
    {
     "name": "stdout",
     "output_type": "stream",
     "text": [
      "enter the number,n=5\n",
      "FRIDAY\n"
     ]
    }
   ],
   "source": [
    "###print the name of days according to numbers 1 to 7\n",
    "n=int(input('enter the number,n='))\n",
    "if n==1:\n",
    "    print('SUNDAY')\n",
    "elif n==2:\n",
    "    print('MONDAY')\n",
    "elif n==3:\n",
    "    print('TUESDAY')\n",
    "elif n==4:\n",
    "    print('THURSDAY')\n",
    "elif n==5:\n",
    "    print('FRIDAY')\n",
    "elif n==6:\n",
    "    print('SATURDAY')"
   ]
  },
  {
   "cell_type": "code",
   "execution_count": 7,
   "id": "441fe9ca",
   "metadata": {},
   "outputs": [
    {
     "name": "stdout",
     "output_type": "stream",
     "text": [
      "enter the number,n1:78\n",
      "enter the number,n2:98\n",
      "enter the number,n3:65\n",
      "65\n"
     ]
    }
   ],
   "source": [
    "###find the smallest number\n",
    "n1=int(input('enter the number,n1:'))\n",
    "n2=int(input('enter the number,n2:'))\n",
    "n3=int(input('enter the number,n3:'))\n",
    "if n1<(n2 and n3):\n",
    "    print(n1)\n",
    "elif n2<(n1 and n3):\n",
    "    print(n2)\n",
    "else:\n",
    "    print(n3)"
   ]
  },
  {
   "cell_type": "code",
   "execution_count": 8,
   "id": "4d43684e",
   "metadata": {},
   "outputs": [
    {
     "name": "stdout",
     "output_type": "stream",
     "text": [
      "enter the age34\n",
      "eligible\n"
     ]
    }
   ],
   "source": [
    "###eligible to vote or not\n",
    "n=int(input('enter the age'))\n",
    "if n>=18:\n",
    "    print('eligible')\n",
    "else:\n",
    "    print('not eligible')"
   ]
  },
  {
   "cell_type": "code",
   "execution_count": null,
   "id": "1a8c1a20",
   "metadata": {},
   "outputs": [],
   "source": []
  }
 ],
 "metadata": {
  "kernelspec": {
   "display_name": "Python 3",
   "language": "python",
   "name": "python3"
  },
  "language_info": {
   "codemirror_mode": {
    "name": "ipython",
    "version": 3
   },
   "file_extension": ".py",
   "mimetype": "text/x-python",
   "name": "python",
   "nbconvert_exporter": "python",
   "pygments_lexer": "ipython3",
   "version": "3.8.8"
  }
 },
 "nbformat": 4,
 "nbformat_minor": 5
}
