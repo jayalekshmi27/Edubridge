{
 "cells": [
  {
   "cell_type": "markdown",
   "id": "e896b68d",
   "metadata": {},
   "source": [
    "# swap of two numbers"
   ]
  },
  {
   "cell_type": "code",
   "execution_count": 6,
   "id": "237a7d4b",
   "metadata": {},
   "outputs": [
    {
     "name": "stdout",
     "output_type": "stream",
     "text": [
      "enter the first number45\n",
      "enter the second number67\n",
      "before swapping the value of a 45\n",
      "before swapping the value of b 67\n",
      "after swapping the value of a 67\n",
      "after swapping the value of b 45\n"
     ]
    }
   ],
   "source": [
    "a=int(input('enter the first number'))\n",
    "b=int(input('enter the second number'))\n",
    "print('before swapping the value of a',a)\n",
    "print('before swapping the value of b',b)\n",
    "temp=a\n",
    "a=b\n",
    "b=temp \n",
    "print('after swapping the value of a',a) \n",
    "print('after swapping the value of b',b)"
   ]
  },
  {
   "cell_type": "markdown",
   "id": "284bfcbd",
   "metadata": {},
   "source": [
    "# perimeter of shapes"
   ]
  },
  {
   "cell_type": "code",
   "execution_count": 4,
   "id": "a88edaeb",
   "metadata": {},
   "outputs": [
    {
     "name": "stdout",
     "output_type": "stream",
     "text": [
      "enter the radius3\n",
      "perimeter of circle 18.84\n"
     ]
    }
   ],
   "source": [
    "###circle\n",
    "r=int(input('enter the radius'))\n",
    "p=2*3.14*r \n",
    "print('perimeter of circle',p)"
   ]
  },
  {
   "cell_type": "code",
   "execution_count": 3,
   "id": "ad5f31e6",
   "metadata": {},
   "outputs": [
    {
     "name": "stdout",
     "output_type": "stream",
     "text": [
      "enter the length=16\n",
      "enter the breadth=15\n",
      "perimeter of rectangle 62\n"
     ]
    }
   ],
   "source": [
    "###rectangle\n",
    "l=int(input('enter the length='))\n",
    "b=int(input('enter the breadth='))\n",
    "p=2*(l+b)\n",
    "print('perimeter of rectangle',p)"
   ]
  },
  {
   "cell_type": "markdown",
   "id": "925353c3",
   "metadata": {},
   "source": [
    "# volume of shapes"
   ]
  },
  {
   "cell_type": "code",
   "execution_count": 12,
   "id": "21878b04",
   "metadata": {},
   "outputs": [
    {
     "name": "stdout",
     "output_type": "stream",
     "text": [
      "enter the value of radius7\n",
      "volume of cube 343\n"
     ]
    }
   ],
   "source": [
    "###cube\n",
    "r=int(input('enter the value of radius'))\n",
    "v=r*r*r\n",
    "print('volume of cube',v)"
   ]
  },
  {
   "cell_type": "code",
   "execution_count": 3,
   "id": "c8f91dd0",
   "metadata": {},
   "outputs": [
    {
     "name": "stdout",
     "output_type": "stream",
     "text": [
      "enter the value of radius6\n",
      "volume of sphere 904.32\n"
     ]
    }
   ],
   "source": [
    "###sphere\n",
    "r=int(input('enter the value of radius'))\n",
    "v=(4*3.14*r*r*r)/3\n",
    "print('volume of sphere',v)"
   ]
  },
  {
   "cell_type": "markdown",
   "id": "2fbd491f",
   "metadata": {},
   "source": [
    "# power of a number"
   ]
  },
  {
   "cell_type": "code",
   "execution_count": 1,
   "id": "9f585929",
   "metadata": {},
   "outputs": [
    {
     "name": "stdout",
     "output_type": "stream",
     "text": [
      "enter the number5\n",
      "power of a number4\n",
      "625\n"
     ]
    }
   ],
   "source": [
    "n=int(input('enter the number'))\n",
    "p=int(input('power of a number'))\n",
    "x=n**p \n",
    "print(x)"
   ]
  },
  {
   "cell_type": "markdown",
   "id": "7779236f",
   "metadata": {},
   "source": [
    "# simple interest"
   ]
  },
  {
   "cell_type": "code",
   "execution_count": 8,
   "id": "3e1d275f",
   "metadata": {},
   "outputs": [
    {
     "name": "stdout",
     "output_type": "stream",
     "text": [
      "principal amount,p10000\n",
      "rate of interest,r12\n",
      "no of years,t3\n",
      "3600.0\n"
     ]
    }
   ],
   "source": [
    "a=int(input('principal amount,p'))\n",
    "b=int(input('rate of interest,r'))\n",
    "c=int(input('no of years,t'))\n",
    "d=a*b*c/100\n",
    "print(d)"
   ]
  },
  {
   "cell_type": "markdown",
   "id": "1d7ca4c9",
   "metadata": {},
   "source": [
    "# Area of shapes"
   ]
  },
  {
   "cell_type": "code",
   "execution_count": 1,
   "id": "d81cd625",
   "metadata": {},
   "outputs": [
    {
     "name": "stdout",
     "output_type": "stream",
     "text": [
      "enter the length=12\n",
      "enter the breadth=13\n",
      "area of rectangle 156\n"
     ]
    }
   ],
   "source": [
    "###rectangle\n",
    "l=int(input('enter the length='))\n",
    "b=int(input('enter the breadth='))\n",
    "area=l*b\n",
    "print('area of rectangle',area)"
   ]
  },
  {
   "cell_type": "code",
   "execution_count": 2,
   "id": "336eb2cf",
   "metadata": {},
   "outputs": [
    {
     "name": "stdout",
     "output_type": "stream",
     "text": [
      "enter the side of square=8\n",
      "area of square 64\n"
     ]
    }
   ],
   "source": [
    "###square\n",
    "a=int(input('enter the side of square='))\n",
    "A=a*a\n",
    "print('area of square',A)\n"
   ]
  },
  {
   "cell_type": "markdown",
   "id": "579be771",
   "metadata": {},
   "source": [
    "# solve quadratic equation\n"
   ]
  },
  {
   "cell_type": "code",
   "execution_count": 4,
   "id": "fcae35a8",
   "metadata": {},
   "outputs": [
    {
     "name": "stdout",
     "output_type": "stream",
     "text": [
      "quadratic equation:ax^2+bx+c=0\n",
      "enter the value of x=3\n",
      "enter the value of a=4\n",
      "enter the value of b=5\n",
      "enter the value of c=7\n",
      "solution of quadratic equation: 58\n"
     ]
    }
   ],
   "source": [
    "print('quadratic equation:ax^2+bx+c=0')\n",
    "x=int(input('enter the value of x='))\n",
    "a=int(input('enter the value of a='))\n",
    "b=int(input('enter the value of b='))\n",
    "c=int(input('enter the value of c='))\n",
    "solution=(a*(x**2)+b*x+c)\n",
    "print('solution of quadratic equation:',solution)"
   ]
  },
  {
   "cell_type": "markdown",
   "id": "80bfd450",
   "metadata": {},
   "source": [
    "# net salary of an employee"
   ]
  },
  {
   "cell_type": "code",
   "execution_count": 6,
   "id": "61449023",
   "metadata": {},
   "outputs": [
    {
     "name": "stdout",
     "output_type": "stream",
     "text": [
      "enter the number of days present:=31\n",
      "enter the wages per day=800\n",
      "net salary of an employee 25544.0\n"
     ]
    }
   ],
   "source": [
    "days=int(input('enter the number of days present:='))\n",
    "wages=int(input('enter the wages per day='))\n",
    "basic=wages*days\n",
    "HRA=basic*0.1\n",
    "DA=basic*0.05\n",
    "PF=basic*0.12\n",
    "net_salary=(basic+HRA+DA)-(PF)\n",
    "print('net salary of an employee',net_salary)"
   ]
  },
  {
   "cell_type": "code",
   "execution_count": null,
   "id": "935833bd",
   "metadata": {},
   "outputs": [],
   "source": []
  }
 ],
 "metadata": {
  "kernelspec": {
   "display_name": "Python 3",
   "language": "python",
   "name": "python3"
  },
  "language_info": {
   "codemirror_mode": {
    "name": "ipython",
    "version": 3
   },
   "file_extension": ".py",
   "mimetype": "text/x-python",
   "name": "python",
   "nbconvert_exporter": "python",
   "pygments_lexer": "ipython3",
   "version": "3.8.8"
  }
 },
 "nbformat": 4,
 "nbformat_minor": 5
}
