{
 "cells": [
  {
   "cell_type": "code",
   "execution_count": null,
   "id": "98656916",
   "metadata": {},
   "outputs": [],
   "source": [
    "acountNo=0\n",
    "CusName=' '\n",
    "Bcode=' '\n",
    "Mobile=0\n",
    "Bal=0\n",
    "def createAccount():\n",
    "    accountNo=int(input('Enter account Number: '))\n",
    "    CusName=input('Enter name of customer: ')\n",
    "    Bcode=input('Enter Branch code: ')\n",
    "    Mobile=int(input('Enter mobile number: '))\n",
    "    global Bal\n",
    "    Bal=int(input('Enter the current Balance:'))\n",
    "def showAcntDetails():\n",
    "    print('Account Number',accountNo)\n",
    "    print('Customer Name: ',CusName)\n",
    "    print('BranchCode: ',Bcode)\n",
    "    print('Mobile Number: ',Mobile)\n",
    "    \n",
    "def Deposit(amount):\n",
    "    global Bal\n",
    "    Bal=Bal+amount\n",
    "    print('Balance updated',Bal)\n",
    "    chckbalance()\n",
    "def withdraw(amount):\n",
    "    global Bal\n",
    "    Bal=Bal-amount\n",
    "    print('Balance updated',Bal)\n",
    "    chckbalance()\n",
    "def chckbalance():\n",
    "    global Bal\n",
    "    print('current Balance: ',Bal)\n",
    "ch1='y'\n",
    "while(ch1 =='y'):\n",
    "    print('Create Account\\n 2.Withdraw Amount\\n 3.Deposit amount\\n 4.Check Balance')\n",
    "    ch=int(input('Select any option'))\n",
    "    if (ch==1):\n",
    "        createAccount()\n",
    "    elif(ch==2):\n",
    "        amnt=int(input('Enter the amount to be withdrawn: '))\n",
    "        withdraw(amnt)\n",
    "    elif(ch==3):\n",
    "        amnt=int(input('Enter the amount to be deposited: '))\n",
    "        Deposit(amnt)\n",
    "    elif(ch==4):\n",
    "        global Bal\n",
    "        chckbalance()\n",
    "    else:\n",
    "        print('Please select any 4 options available above')\n",
    "    print('Do you want to continue....press y')\n",
    "    ch1=input()\n",
    "        \n",
    "    "
   ]
  }
 ],
 "metadata": {
  "kernelspec": {
   "display_name": "Python 3",
   "language": "python",
   "name": "python3"
  },
  "language_info": {
   "codemirror_mode": {
    "name": "ipython",
    "version": 3
   },
   "file_extension": ".py",
   "mimetype": "text/x-python",
   "name": "python",
   "nbconvert_exporter": "python",
   "pygments_lexer": "ipython3",
   "version": "3.8.8"
  }
 },
 "nbformat": 4,
 "nbformat_minor": 5
}
